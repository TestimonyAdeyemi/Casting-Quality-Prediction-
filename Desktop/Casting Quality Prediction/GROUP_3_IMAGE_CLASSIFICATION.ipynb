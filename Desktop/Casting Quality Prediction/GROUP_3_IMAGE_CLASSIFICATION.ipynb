version https://git-lfs.github.com/spec/v1
oid sha256:e425d7727a680cacb5b20daecdc71c4dee755248bff5aa33a00d8596adf54372
size 847779
